{
 "cells": [
  {
   "cell_type": "markdown",
   "metadata": {},
   "source": [
    "# Higgs Boson Analysis"
   ]
  },
  {
   "cell_type": "markdown",
   "metadata": {},
   "source": [
    "**Note:** The following code uses mocked data. Please replace the mocked data with your actual `.root` files."
   ]
  },
  {
   "cell_type": "code",
   "execution_count": null,
   "metadata": {},
   "outputs": [],
   "source": [
    "import uproot\n",
    "import awkward as ak\n",
    "import numpy as np\n",
    "import matplotlib.pyplot as plt\n",
    "\n",
    "# Create a dummy ROOT file for demonstration\n",
    "with uproot.recreate(\"../data/mock_data.root\") as file:\n",
    "    file[\"events\"] = {\n",
    "        \"Photon_pt\": np.random.uniform(20, 100, (1000, 4)),\n",
    "        \"Photon_eta\": np.random.uniform(-2.5, 2.5, (1000, 4)),\n",
    "        \"Photon_phi\": np.random.uniform(-np.pi, np.pi, (1000, 4)),\n",
    "        \"Photon_mass\": np.zeros((1000, 4)),\n",
    "        \"nPhoton\": np.random.randint(0, 5, 1000)\n",
    "    }"
   ]
  },
  {
   "cell_type": "code",
   "execution_count": null,
   "metadata": {},
   "outputs": [],
   "source": [
    "# Load the data from the ROOT file\n",
    "file = uproot.open(\"../data/mock_data.root\")\n",
    "tree = file[\"events\"]\n",
    "\n",
    "# Inspect the branches\n",
    "print(\"Branches:\", tree.keys())"
   ]
  },
  {
   "cell_type": "code",
   "execution_count": null,
   "metadata": {},
   "outputs": [],
   "source": [
    "# Extract the diphoton events\n",
    "events = tree.arrays([\"Photon_pt\", \"Photon_eta\", \"Photon_phi\", \"Photon_mass\", \"nPhoton\"])\n",
    "diphoton_events = events[events.nPhoton == 2]\n",
    "\n",
    "# Calculate the invariant mass\n",
    "px = diphoton_events.Photon_pt * np.cos(diphoton_events.Photon_phi)\n",
    "py = diphoton_events.Photon_pt * np.sin(diphoton_events.Photon_phi)\n",
    "pz = diphoton_events.Photon_pt * np.sinh(diphoton_events.Photon_eta)\n",
    "E = np.sqrt(px**2 + py**2 + pz**2 + diphoton_events.Photon_mass**2)\n",
    "\n",
    "p4 = ak.zip({\n",
    "    \"px\": px,\n",
    "    \"py\": py,\n",
    "    \"pz\": pz,\n",
    "    \"E\": E\n",
    "}, with_name=\"LorentzVector\")\n",
    "\n",
    "diphoton = p4[:, 0] + p4[:, 1]\n",
    "invariant_mass = diphoton.mass"
   ]
  },
  {
   "cell_type": "code",
   "execution_count": null,
   "metadata": {},
   "outputs": [],
   "source": [
    "# Plot the invariant mass distribution\n",
    "plt.figure(figsize=(10, 6))\n",
    "plt.hist(invariant_mass, bins=100, range=(80, 180), histtype=\"step\", label=\"Invariant Mass\")\n",
    "plt.xlabel(\"Invariant Mass [GeV]\")\n",
    "plt.ylabel(\"Events\")\n",
    "plt.title(\"Diphoton Invariant Mass\")\n",
    "plt.legend()\n",
    "plt.grid(True)\n",
    "plt.show()"
   ]
  }
 ],
 "metadata": {
  "kernelspec": {
   "display_name": "Python 3 (ipykernel)",
   "language": "python",
   "name": "python3"
  },
  "language_info": {
   "codemirror_mode": {
    "name": "ipython",
    "version": 3
   },
   "file_extension": ".py",
   "mimetype": "text/x-python",
   "name": "python",
   "nbconvert_exporter": "python",
   "pygments_lexer": "ipython3",
   "version": "3.13.2"
  }
 },
 "nbformat": 4,
 "nbformat_minor": 5
}
